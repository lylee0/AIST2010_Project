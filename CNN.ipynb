{
 "cells": [
  {
   "cell_type": "code",
   "execution_count": 1,
   "metadata": {},
   "outputs": [],
   "source": [
    "import librosa\n",
    "import librosa.display\n",
    "import os\n",
    "import pandas as pd\n",
    "import numpy as np"
   ]
  },
  {
   "cell_type": "code",
   "execution_count": 2,
   "metadata": {},
   "outputs": [],
   "source": [
    "import torch\n",
    "import torch.nn as nn\n",
    "import torch.optim as optim\n",
    "from torch.utils.data import DataLoader, Dataset\n",
    "from sklearn.model_selection import train_test_split\n",
    "from sklearn.preprocessing import LabelEncoder\n",
    "from sklearn.metrics import accuracy_score\n",
    "import torch.nn.functional as F\n",
    "from tqdm import tqdm\n",
    "from sklearn.preprocessing import LabelEncoder\n",
    "from sklearn.model_selection import train_test_split"
   ]
  },
  {
   "cell_type": "code",
   "execution_count": 3,
   "metadata": {},
   "outputs": [],
   "source": [
    "def mfcc(data):\n",
    "    # Mel-frequency cepstral coefficients (MFCCs)\n",
    "    mfcc_audio = librosa.feature.mfcc(y=data, sr=22050, n_fft=512).flatten()\n",
    "\n",
    "    return mfcc_audio"
   ]
  },
  {
   "cell_type": "code",
   "execution_count": 4,
   "metadata": {},
   "outputs": [],
   "source": [
    "def mfcc(data):\n",
    "    # Mel-frequency cepstral coefficients (MFCCs)\n",
    "    mfcc_audio = librosa.feature.mfcc(y=data, sr=22050, n_fft=512).flatten()\n",
    "\n",
    "    return mfcc_audio\n",
    "\n",
    "#current_path = os.path.dirname(os.path.realpath(__file__))\n",
    "\n",
    "#songs = pd.read_csv(os.path.join(current_path, \"dataset_audio.csv\"))\n",
    "songs = pd.read_csv(\"dataset_audio.csv\")\n",
    "time = list(songs[\"Time Series\"])"
   ]
  },
  {
   "cell_type": "code",
   "execution_count": 5,
   "metadata": {},
   "outputs": [],
   "source": [
    "time_str = [i.replace(\"[\", \"\") for i in time]\n",
    "time_str = [i.replace(\"]\", \"\") for i in time_str]\n",
    "preprocessed_data = [np.fromstring(i, dtype=float, sep=',') for i in time_str]"
   ]
  },
  {
   "cell_type": "code",
   "execution_count": 6,
   "metadata": {},
   "outputs": [],
   "source": [
    "sr = 22050\n",
    "audio_separate = []\n",
    "for data in preprocessed_data:\n",
    "    for i in range(0, 25):\n",
    "        start = i*sr\n",
    "        end = (i+1)*sr\n",
    "        audio_separate.append(data[start:end])"
   ]
  },
  {
   "cell_type": "code",
   "execution_count": 16,
   "metadata": {},
   "outputs": [],
   "source": [
    "mfcc_audio_data = []    # Mel-frequency cepstral coefficients (MFCCs)\n",
    "\n",
    "for data in audio_separate:\n",
    "    # dataset after feature extraction\n",
    "    mfcc_audio = mfcc(np.array(data))\n",
    "    mfcc_audio_data.append(mfcc_audio)\n",
    "    #mfcc_audio_data.append(mfcc_audio.reshape(880, 1))\n",
    "    \n",
    "mfcc_audio_data = np.array(mfcc_audio_data)"
   ]
  },
  {
   "cell_type": "code",
   "execution_count": 17,
   "metadata": {},
   "outputs": [],
   "source": [
    "from sklearn.preprocessing import StandardScaler\n",
    "scaler = StandardScaler()\n",
    "scaler.fit(mfcc_audio_data)\n",
    "mfcc_audio_data = scaler.transform(mfcc_audio_data)"
   ]
  },
  {
   "cell_type": "code",
   "execution_count": 18,
   "metadata": {},
   "outputs": [
    {
     "data": {
      "text/plain": [
       "(2500, 880)"
      ]
     },
     "execution_count": 18,
     "metadata": {},
     "output_type": "execute_result"
    }
   ],
   "source": [
    "mfcc_audio_data.shape"
   ]
  },
  {
   "cell_type": "code",
   "execution_count": 36,
   "metadata": {},
   "outputs": [],
   "source": [
    "mfcc_norm = []\n",
    "for data in mfcc_audio_data:\n",
    "    mfcc_norm.append(data.reshape(40, 22))\n",
    "\n",
    "mfcc_norm = np.array(mfcc_norm)"
   ]
  },
  {
   "cell_type": "code",
   "execution_count": 37,
   "metadata": {},
   "outputs": [
    {
     "data": {
      "text/plain": [
       "(2500, 40, 22)"
      ]
     },
     "execution_count": 37,
     "metadata": {},
     "output_type": "execute_result"
    }
   ],
   "source": [
    "mfcc_norm.shape"
   ]
  },
  {
   "cell_type": "code",
   "execution_count": 38,
   "metadata": {},
   "outputs": [],
   "source": [
    "singers_old = list(songs[\"Singer\"])\n",
    "singers = []\n",
    "\n",
    "for singer in singers_old:\n",
    "    for i in range(0, 25):\n",
    "        singers.append(singer)\n",
    "\n",
    "singers = np.array(singers)"
   ]
  },
  {
   "cell_type": "code",
   "execution_count": 39,
   "metadata": {},
   "outputs": [
    {
     "data": {
      "text/plain": [
       "(2500,)"
      ]
     },
     "execution_count": 39,
     "metadata": {},
     "output_type": "execute_result"
    }
   ],
   "source": [
    "singers.shape"
   ]
  },
  {
   "cell_type": "code",
   "execution_count": 40,
   "metadata": {},
   "outputs": [],
   "source": [
    "label_encoder = LabelEncoder()\n",
    "Y_label_encoded = label_encoder.fit_transform(singers)\n",
    "\n",
    "# Convert NumPy arrays to PyTorch tensors\n",
    "#X_tensor = torch.tensor(mfcc_audio_data, dtype=torch.float32)\n",
    "#Y_label_encoded_tensor = torch.tensor(Y_label_encoded, dtype=torch.long)\n",
    "\n",
    "X_train, X_test, train_Y, test_Y = train_test_split(mfcc_norm, Y_label_encoded, test_size = 0.2, random_state = 42)"
   ]
  },
  {
   "cell_type": "code",
   "execution_count": 41,
   "metadata": {},
   "outputs": [
    {
     "data": {
      "text/plain": [
       "(2000, 40, 22)"
      ]
     },
     "execution_count": 41,
     "metadata": {},
     "output_type": "execute_result"
    }
   ],
   "source": [
    "X_train.shape"
   ]
  },
  {
   "cell_type": "code",
   "execution_count": 42,
   "metadata": {},
   "outputs": [
    {
     "data": {
      "text/plain": [
       "array([8, 7, 7, ..., 4, 5, 3], dtype=int64)"
      ]
     },
     "execution_count": 42,
     "metadata": {},
     "output_type": "execute_result"
    }
   ],
   "source": [
    "train_Y"
   ]
  },
  {
   "cell_type": "code",
   "execution_count": 67,
   "metadata": {},
   "outputs": [],
   "source": [
    "from sklearn.metrics import accuracy_score\n",
    "import numpy as np\n",
    "from keras.models import Sequential\n",
    "from keras.layers import Dense, Activation, Flatten, Conv2D, MaxPooling2D, Conv1D, MaxPooling1D\n",
    "from tensorflow.keras.utils import to_categorical"
   ]
  },
  {
   "cell_type": "code",
   "execution_count": 44,
   "metadata": {},
   "outputs": [],
   "source": [
    "X_train = X_train.reshape(X_train.shape[0], 40, 22, 1).astype('float32')\n",
    "X_test = X_test.reshape(X_test.shape[0], 40, 22, 1).astype('float32')\n",
    "\n",
    "#one hot encoding\n",
    "Y_train = to_categorical(train_Y)\n",
    "Y_test = to_categorical(test_Y)"
   ]
  },
  {
   "cell_type": "code",
   "execution_count": 45,
   "metadata": {},
   "outputs": [],
   "source": [
    "'''Accuracy'''\n",
    "test = list(test_Y)\n",
    "num = [test.count(0), test.count(1), test.count(2), test.count(3), test.count(4), test.count(5), test.count(6), test.count(7), test.count(8), test.count(9)]\n",
    "def acc(pred):\n",
    "  accuracy = [0, 0, 0, 0, 0, 0, 0, 0, 0, 0]\n",
    "  for i in range(0, len(pred)):\n",
    "    for j in range(0, 10):\n",
    "      if pred[i] == test_Y[i]:\n",
    "        accuracy[pred[i]] += 1\n",
    "        break\n",
    "  for i in range(0, 10):\n",
    "    accuracy[i] = accuracy[i]/num[i]\n",
    "  return accuracy"
   ]
  },
  {
   "cell_type": "code",
   "execution_count": 69,
   "metadata": {},
   "outputs": [],
   "source": [
    "model = Sequential()\n",
    "'''model.add(Conv2D(32, (5, 5), input_shape=(40, 22, 1)))\n",
    "model.add(Activation('relu'))\n",
    "model.add(MaxPooling2D(pool_size=(2, 2)))\n",
    "\n",
    "model.add(Conv2D(32, (5, 5)))\n",
    "model.add(Activation('relu'))\n",
    "model.add(MaxPooling2D(pool_size=(2, 2)))\n",
    "\n",
    "model.add(Flatten())\n",
    "model.add(Dense(128))\n",
    "\n",
    "model.add(Dense(Y_test.shape[1]))\n",
    "model.add(Activation('softmax'))'''\n",
    "\n",
    "\n",
    "model.add(Conv2D(16, kernel_size=3, activation='relu', input_shape=(40, 22, 1)))\n",
    "model.add(MaxPooling2D(pool_size=2))\n",
    "\n",
    "model.add(Flatten())\n",
    "model.add(Dense(128, activation='relu'))\n",
    "model.add(Dense(10, activation='softmax'))\n",
    "\n",
    "model.compile(loss='categorical_crossentropy', optimizer='adam', metrics=['accuracy'])"
   ]
  },
  {
   "cell_type": "code",
   "execution_count": 70,
   "metadata": {},
   "outputs": [
    {
     "name": "stdout",
     "output_type": "stream",
     "text": [
      "Epoch 1/50\n",
      "63/63 [==============================] - 1s 7ms/step - loss: 1.9724 - accuracy: 0.3150 - val_loss: 1.7562 - val_accuracy: 0.3960\n",
      "Epoch 2/50\n",
      "63/63 [==============================] - 0s 5ms/step - loss: 1.5114 - accuracy: 0.4940 - val_loss: 1.5149 - val_accuracy: 0.4960\n",
      "Epoch 3/50\n",
      "63/63 [==============================] - 0s 5ms/step - loss: 1.2721 - accuracy: 0.5730 - val_loss: 1.4881 - val_accuracy: 0.5040\n",
      "Epoch 4/50\n",
      "63/63 [==============================] - 0s 5ms/step - loss: 1.0880 - accuracy: 0.6405 - val_loss: 1.4472 - val_accuracy: 0.5080\n",
      "Epoch 5/50\n",
      "63/63 [==============================] - 0s 5ms/step - loss: 0.9070 - accuracy: 0.6940 - val_loss: 1.3308 - val_accuracy: 0.5460\n",
      "Epoch 6/50\n",
      "63/63 [==============================] - 0s 5ms/step - loss: 0.7536 - accuracy: 0.7485 - val_loss: 1.2816 - val_accuracy: 0.5780\n",
      "Epoch 7/50\n",
      "63/63 [==============================] - 0s 5ms/step - loss: 0.6341 - accuracy: 0.7950 - val_loss: 1.3634 - val_accuracy: 0.5540\n",
      "Epoch 8/50\n",
      "63/63 [==============================] - 0s 5ms/step - loss: 0.4960 - accuracy: 0.8555 - val_loss: 1.3322 - val_accuracy: 0.5660\n",
      "Epoch 9/50\n",
      "63/63 [==============================] - 0s 5ms/step - loss: 0.4012 - accuracy: 0.8870 - val_loss: 1.3858 - val_accuracy: 0.5720\n",
      "Epoch 10/50\n",
      "63/63 [==============================] - 0s 6ms/step - loss: 0.3071 - accuracy: 0.9200 - val_loss: 1.3602 - val_accuracy: 0.5800\n",
      "Epoch 11/50\n",
      "63/63 [==============================] - 0s 5ms/step - loss: 0.2314 - accuracy: 0.9400 - val_loss: 1.4265 - val_accuracy: 0.5760\n",
      "Epoch 12/50\n",
      "63/63 [==============================] - 0s 5ms/step - loss: 0.1564 - accuracy: 0.9730 - val_loss: 1.5452 - val_accuracy: 0.5620\n",
      "Epoch 13/50\n",
      "63/63 [==============================] - 0s 5ms/step - loss: 0.1290 - accuracy: 0.9790 - val_loss: 1.5111 - val_accuracy: 0.5820\n",
      "Epoch 14/50\n",
      "63/63 [==============================] - 0s 5ms/step - loss: 0.0840 - accuracy: 0.9915 - val_loss: 1.5926 - val_accuracy: 0.5760\n",
      "Epoch 15/50\n",
      "63/63 [==============================] - 0s 6ms/step - loss: 0.0641 - accuracy: 0.9955 - val_loss: 1.5349 - val_accuracy: 0.5900\n",
      "Epoch 16/50\n",
      "63/63 [==============================] - 0s 5ms/step - loss: 0.0386 - accuracy: 0.9990 - val_loss: 1.5886 - val_accuracy: 0.6020\n",
      "Epoch 17/50\n",
      "63/63 [==============================] - 0s 6ms/step - loss: 0.0295 - accuracy: 0.9995 - val_loss: 1.6378 - val_accuracy: 0.6020\n",
      "Epoch 18/50\n",
      "63/63 [==============================] - 0s 5ms/step - loss: 0.0221 - accuracy: 0.9995 - val_loss: 1.7176 - val_accuracy: 0.5900\n",
      "Epoch 19/50\n",
      "63/63 [==============================] - 0s 6ms/step - loss: 0.0190 - accuracy: 1.0000 - val_loss: 1.6956 - val_accuracy: 0.5800\n",
      "Epoch 20/50\n",
      "63/63 [==============================] - 0s 5ms/step - loss: 0.0141 - accuracy: 1.0000 - val_loss: 1.7194 - val_accuracy: 0.5920\n",
      "Epoch 21/50\n",
      "63/63 [==============================] - 0s 5ms/step - loss: 0.0118 - accuracy: 1.0000 - val_loss: 1.7525 - val_accuracy: 0.5920\n",
      "Epoch 22/50\n",
      "63/63 [==============================] - 0s 5ms/step - loss: 0.0100 - accuracy: 1.0000 - val_loss: 1.7794 - val_accuracy: 0.6020\n",
      "Epoch 23/50\n",
      "63/63 [==============================] - 0s 7ms/step - loss: 0.0085 - accuracy: 1.0000 - val_loss: 1.7895 - val_accuracy: 0.6100\n",
      "Epoch 24/50\n",
      "63/63 [==============================] - 0s 8ms/step - loss: 0.0076 - accuracy: 1.0000 - val_loss: 1.8352 - val_accuracy: 0.5880\n",
      "Epoch 25/50\n",
      "63/63 [==============================] - 1s 9ms/step - loss: 0.0067 - accuracy: 1.0000 - val_loss: 1.8685 - val_accuracy: 0.5900\n",
      "Epoch 26/50\n",
      "63/63 [==============================] - 1s 8ms/step - loss: 0.0059 - accuracy: 1.0000 - val_loss: 1.8623 - val_accuracy: 0.5880\n",
      "Epoch 27/50\n",
      "63/63 [==============================] - 0s 7ms/step - loss: 0.0055 - accuracy: 1.0000 - val_loss: 1.8771 - val_accuracy: 0.6080\n",
      "Epoch 28/50\n",
      "63/63 [==============================] - 1s 8ms/step - loss: 0.0048 - accuracy: 1.0000 - val_loss: 1.8819 - val_accuracy: 0.5980\n",
      "Epoch 29/50\n",
      "63/63 [==============================] - 0s 8ms/step - loss: 0.0044 - accuracy: 1.0000 - val_loss: 1.9220 - val_accuracy: 0.6020\n",
      "Epoch 30/50\n",
      "63/63 [==============================] - 0s 8ms/step - loss: 0.0040 - accuracy: 1.0000 - val_loss: 1.9392 - val_accuracy: 0.6040\n",
      "Epoch 31/50\n",
      "63/63 [==============================] - 0s 7ms/step - loss: 0.0036 - accuracy: 1.0000 - val_loss: 1.9442 - val_accuracy: 0.5940\n",
      "Epoch 32/50\n",
      "63/63 [==============================] - 0s 6ms/step - loss: 0.0033 - accuracy: 1.0000 - val_loss: 1.9766 - val_accuracy: 0.5960\n",
      "Epoch 33/50\n",
      "63/63 [==============================] - 0s 5ms/step - loss: 0.0030 - accuracy: 1.0000 - val_loss: 1.9881 - val_accuracy: 0.5940\n",
      "Epoch 34/50\n",
      "63/63 [==============================] - 0s 5ms/step - loss: 0.0028 - accuracy: 1.0000 - val_loss: 2.0048 - val_accuracy: 0.5960\n",
      "Epoch 35/50\n",
      "63/63 [==============================] - 0s 5ms/step - loss: 0.0027 - accuracy: 1.0000 - val_loss: 2.0106 - val_accuracy: 0.5960\n",
      "Epoch 36/50\n",
      "63/63 [==============================] - 0s 5ms/step - loss: 0.0025 - accuracy: 1.0000 - val_loss: 2.0255 - val_accuracy: 0.6040\n",
      "Epoch 37/50\n",
      "63/63 [==============================] - 0s 5ms/step - loss: 0.0022 - accuracy: 1.0000 - val_loss: 2.0595 - val_accuracy: 0.5920\n",
      "Epoch 38/50\n",
      "63/63 [==============================] - 0s 6ms/step - loss: 0.0021 - accuracy: 1.0000 - val_loss: 2.0563 - val_accuracy: 0.6060\n",
      "Epoch 39/50\n",
      "63/63 [==============================] - 0s 6ms/step - loss: 0.0019 - accuracy: 1.0000 - val_loss: 2.0741 - val_accuracy: 0.5980\n",
      "Epoch 40/50\n",
      "63/63 [==============================] - 0s 6ms/step - loss: 0.0018 - accuracy: 1.0000 - val_loss: 2.0972 - val_accuracy: 0.5920\n",
      "Epoch 41/50\n",
      "63/63 [==============================] - 0s 6ms/step - loss: 0.0017 - accuracy: 1.0000 - val_loss: 2.0976 - val_accuracy: 0.6060\n",
      "Epoch 42/50\n",
      "63/63 [==============================] - 0s 6ms/step - loss: 0.0016 - accuracy: 1.0000 - val_loss: 2.1093 - val_accuracy: 0.5980\n",
      "Epoch 43/50\n",
      "63/63 [==============================] - 0s 7ms/step - loss: 0.0015 - accuracy: 1.0000 - val_loss: 2.1112 - val_accuracy: 0.6000\n",
      "Epoch 44/50\n",
      "63/63 [==============================] - 0s 8ms/step - loss: 0.0014 - accuracy: 1.0000 - val_loss: 2.1441 - val_accuracy: 0.5980\n",
      "Epoch 45/50\n",
      "63/63 [==============================] - 1s 8ms/step - loss: 0.0013 - accuracy: 1.0000 - val_loss: 2.1479 - val_accuracy: 0.6160\n",
      "Epoch 46/50\n",
      "63/63 [==============================] - 0s 8ms/step - loss: 0.0012 - accuracy: 1.0000 - val_loss: 2.1573 - val_accuracy: 0.5960\n",
      "Epoch 47/50\n",
      "63/63 [==============================] - 1s 8ms/step - loss: 0.0012 - accuracy: 1.0000 - val_loss: 2.1805 - val_accuracy: 0.6020\n",
      "Epoch 48/50\n",
      "63/63 [==============================] - 0s 8ms/step - loss: 0.0011 - accuracy: 1.0000 - val_loss: 2.1815 - val_accuracy: 0.5980\n",
      "Epoch 49/50\n",
      "63/63 [==============================] - 1s 8ms/step - loss: 0.0010 - accuracy: 1.0000 - val_loss: 2.1874 - val_accuracy: 0.6020\n",
      "Epoch 50/50\n",
      "63/63 [==============================] - 0s 8ms/step - loss: 9.7250e-04 - accuracy: 1.0000 - val_loss: 2.2039 - val_accuracy: 0.6000\n"
     ]
    }
   ],
   "source": [
    "history = model.fit(X_train, Y_train, validation_data=(X_test, Y_test), batch_size=32, epochs=50)"
   ]
  },
  {
   "cell_type": "code",
   "execution_count": 71,
   "metadata": {},
   "outputs": [
    {
     "name": "stdout",
     "output_type": "stream",
     "text": [
      "16/16 [==============================] - 0s 5ms/step - loss: 2.2039 - accuracy: 0.6000\n",
      "Loss: 2.203892230987549\n",
      "Accuracy: 0.6000000238418579\n"
     ]
    }
   ],
   "source": [
    "scores = model.evaluate(X_test, Y_test)\n",
    "print(\"Loss: {}\".format(scores[0]))\n",
    "print(\"Accuracy: {}\".format(scores[1]))"
   ]
  },
  {
   "cell_type": "code",
   "execution_count": 65,
   "metadata": {},
   "outputs": [],
   "source": [
    "predictions = model.predict(X_test)\n",
    "pred = []\n",
    "for x in range(0, len(predictions)):\n",
    "  pred.append((np.argmax(np.round(predictions[x]))))"
   ]
  },
  {
   "cell_type": "code",
   "execution_count": 61,
   "metadata": {},
   "outputs": [],
   "source": [
    "import matplotlib.pyplot as plt"
   ]
  },
  {
   "cell_type": "code",
   "execution_count": 73,
   "metadata": {},
   "outputs": [
    {
     "data": {
      "image/png": "[encoded data removed]",
      "text/plain": [
       "<Figure size 720x360 with 1 Axes>"
      ]
     },
     "metadata": {
      "needs_background": "light"
     },
     "output_type": "display_data"
    }
   ],
   "source": [
    "'''Results Visualization for CNN'''\n",
    "accuracy = acc(pred)\n",
    "\n",
    "fig = plt.figure(figsize = (10, 5))\n",
    "num_labels = [0, 1, 2, 3, 4, 5, 6, 7, 8, 9]\n",
    "plt.barh(num_labels, accuracy, color=\"magenta\")\n",
    "plt.yticks(num_labels)\n",
    "plt.xlabel(\"Accuracy\")\n",
    "plt.ylabel(\"Numbers\")\n",
    "plt.title(\"Accuracy of each singer when using CNN\")\n",
    "for index, value in enumerate(accuracy):\n",
    "  plt.text(value, index, str(round(value, 2)))\n",
    "plt.show()"
   ]
  }
 ],
 "metadata": {
  "kernelspec": {
   "display_name": "base",
   "language": "python",
   "name": "python3"
  },
  "language_info": {
   "codemirror_mode": {
    "name": "ipython",
    "version": 3
   },
   "file_extension": ".py",
   "mimetype": "text/x-python",
   "name": "python",
   "nbconvert_exporter": "python",
   "pygments_lexer": "ipython3",
   "version": "3.9.5"
  }
 },
 "nbformat": 4,
 "nbformat_minor": 2
}
